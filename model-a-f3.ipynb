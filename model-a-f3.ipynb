{
  "cells": [
    {
      "metadata": {
        "collapsed": true
      },
      "cell_type": "markdown",
      "source": "# Regression Model A: Field 3"
    },
    {
      "metadata": {},
      "cell_type": "markdown",
      "source": "## Install libraries"
    },
    {
      "metadata": {
        "trusted": true
      },
      "cell_type": "code",
      "source": "install.packages('readxl')\ninstall.packages('corrplot')\ninstall.packages('mice')\ninstall.packages('RColorBrewer')\ninstall.packages('car')\ninstall.packages('Metrics')",
      "execution_count": null,
      "outputs": [
        {
          "output_type": "stream",
          "text": "Installing package into ‘/home/nbuser/R’\n(as ‘lib’ is unspecified)\nWarning message in install.packages(\"readxl\"):\n“installation of package ‘readxl’ had non-zero exit status”Installing package into ‘/home/nbuser/R’\n(as ‘lib’ is unspecified)\nInstalling package into ‘/home/nbuser/R’\n(as ‘lib’ is unspecified)\nWarning message in install.packages(\"mice\"):\n“installation of package ‘mice’ had non-zero exit status”Installing package into ‘/home/nbuser/R’\n(as ‘lib’ is unspecified)\nInstalling package into ‘/home/nbuser/R’\n(as ‘lib’ is unspecified)\n",
          "name": "stderr"
        }
      ]
    },
    {
      "metadata": {},
      "cell_type": "markdown",
      "source": "## Call libraries"
    },
    {
      "metadata": {
        "trusted": true
      },
      "cell_type": "code",
      "source": "library(readxl)\nlibrary(corrplot)\nlibrary(mice)\nlibrary(RColorBrewer)\nlibrary(car)\nlibrary(Metrics)",
      "execution_count": null,
      "outputs": []
    },
    {
      "metadata": {},
      "cell_type": "markdown",
      "source": "## Import data"
    },
    {
      "metadata": {
        "trusted": true
      },
      "cell_type": "code",
      "source": "d1=read_excel(\"variable2.xlsx\",sheet = 1)\nd2=read_excel(\"variable2.xlsx\",sheet = 2)\nd3=read_excel(\"variable2.xlsx\",sheet = 3) \nd4=read_excel(\"variable2.xlsx\",sheet = 4)\nd5=read_excel(\"variable2.xlsx\",sheet = 5) ",
      "execution_count": null,
      "outputs": []
    },
    {
      "metadata": {},
      "cell_type": "markdown",
      "source": "## Field 3 (F3)\nCall the data according to the Field. "
    },
    {
      "metadata": {
        "trusted": true
      },
      "cell_type": "code",
      "source": "dE1=d1[which(d1$`ESTATE CODE`==\"E3\" ),]\ndE2=d2[(d2$Diff ),]\ndE3=d3[which(d3$Estate==\"E3\" ),]\ndE4=d4[which(d4$Estate==\"E3\" ),]\ndE5=d5[which(d5$Estate==\"E3\" ),]",
      "execution_count": null,
      "outputs": []
    },
    {
      "metadata": {},
      "cell_type": "markdown",
      "source": "## Variables\n\nDeclare the variable and construct new table for easy representation. "
    },
    {
      "metadata": {
        "trusted": true
      },
      "cell_type": "code",
      "source": "year=dE1$`CALENDER YEAR`\nmonth=dE1$`CALENDER MONTH`\nyield=dE1$`CPB TONNAGE`\nrainfall=dE1$RAINFALL\nfoliar=d2$Diff\nprun.time=dE3$Frequency\nprun.cost=dE3$PruningCost\nmanuring.time=dE4$Frequency\nmanuring.cost=dE4$ManuringCost\npd.time=dE5$Frequency\npd.cost=dE5$PDCost\n\ndg1=data.frame(year,month,yield,rainfall,foliar,prun.time,prun.cost,\n               manuring.time,manuring.cost,pd.time,pd.cost)",
      "execution_count": null,
      "outputs": []
    },
    {
      "metadata": {},
      "cell_type": "markdown",
      "source": "## Correlation\n\nCheck the correlations for all variables. "
    },
    {
      "metadata": {
        "trusted": true
      },
      "cell_type": "code",
      "source": "c1=cor(dg1[,-1:-2])\n\ncorrplot(c1, method=\"number\",type=\"upper\",col=brewer.pal(n=8, name=\"RdYlBu\"))\ncorrplot(c1, type=\"upper\")",
      "execution_count": null,
      "outputs": []
    },
    {
      "metadata": {},
      "cell_type": "markdown",
      "source": "## Train and test data\n\nSplit the dataset into train and test sets. \n\nAfter a model has been processed by using the training set, we test the model by making predictions against the test set. \n\nBecause the data in the testing set already contains known values for the attribute that we want to predict, it is easy to determine whether the model's guesses are correct.\n\nWe use the datasets from May 2014 until December 2016 is considered for training dataset. The test dataset is from January 2017 until December 2017. "
    },
    {
      "metadata": {
        "trusted": true
      },
      "cell_type": "code",
      "source": "train = dg1[dg1$year<=2016,]\ntest = dg1[dg1$year==2017,]\ndim(train)\ndim(test)",
      "execution_count": null,
      "outputs": []
    },
    {
      "metadata": {},
      "cell_type": "markdown",
      "source": "## Regression\n\nFit the data using multiple regression for all variables. "
    },
    {
      "metadata": {
        "trusted": true
      },
      "cell_type": "code",
      "source": "a1=lm(yield~rainfall+foliar+prun.time+prun.cost+\n        manuring.time+manuring.cost+pd.time+pd.cost,data=train)\nsummary(a1)\nplot(a1,which=1)\nplot(a1,which=2)",
      "execution_count": null,
      "outputs": []
    },
    {
      "metadata": {},
      "cell_type": "markdown",
      "source": "## Significant variable \n\nCheck the significant variables using two ways. \n\na.\tanova  \nChoose the variables that has significant value in which p<0.1.\n\nb.\tusing stepwise method  \nIn order to avoid the multicollinearity issues in variables selection, we take into account the variance inflation factors (VIF). We remove the variables that has VIF greater than 4. Then we rebuild the model. \n\n\nThe stepwise method incorporate with VIF factor is better than anova method in order to     select the significant variables.    \n\n### Using ANOVA"
    },
    {
      "metadata": {
        "trusted": true
      },
      "cell_type": "code",
      "source": "anova(a1)",
      "execution_count": null,
      "outputs": []
    },
    {
      "metadata": {},
      "cell_type": "markdown",
      "source": "### Using stepwise"
    },
    {
      "metadata": {
        "trusted": true
      },
      "cell_type": "code",
      "source": "selectedMod <- step(a1)\nsummary(selectedMod)\n\n##Avoid Multicollinearity and Statistical Significance\n##Recursively remove variables with variance inflation factors: VIF > 4\n# Remove vars with VIF> 4 and re-build model until none of VIFs don't exceed 4.\nall_vifs <- car::vif(selectedMod)\nprint(all_vifs)\n\nwhile(any(all_vifs > 4)){\n  var_with_max_vif <- names(which(all_vifs == max(all_vifs)))  # get the var with max vif\n  signif_all <- signif_all[!(signif_all) %in% var_with_max_vif]  # remove\n  myForm <- as.formula(paste(\"ozone_reading ~ \", paste (signif_all, collapse=\" + \"), sep=\"\"))  # new formula\n  selectedMod <- lm(myForm, data=inputData)  # re-build model with new formula\n  all_vifs <- car::vif(selectedMod)\n}\n\nsummary(selectedMod)",
      "execution_count": null,
      "outputs": []
    },
    {
      "metadata": {},
      "cell_type": "markdown",
      "source": "## Prediction\n\nThe performance of the model is evaluated by comparing the estimated value with the actual value. In this case, the test dataset (2017 datasets) is used to examine the performance of the model with significant variables. "
    },
    {
      "metadata": {},
      "cell_type": "markdown",
      "source": "Construct the table and graph that represents the estimated and observed value. "
    },
    {
      "metadata": {
        "trusted": true
      },
      "cell_type": "code",
      "source": "estimate=predict(selectedMod,newdata=test)\ncompare=data.frame(test$yield,estimate)\nnames(compare)=c(\"Actual\",\"Estimate\")\ncompare\n\nplot(compare$Actual,type=\"b\",col=\"blue\",xlab=\"Actual\",ylab=\"Predicted\",pch=19)\nlines(fitted(selectedMod),col=\"red\",type=\"b\",pch=18)\nlegend(\"topleft\",legend=c(\"Actual\",\"Predicted\"),col=c(\"blue\",\"red\"),lty=1,cex=0.8)",
      "execution_count": null,
      "outputs": []
    },
    {
      "metadata": {},
      "cell_type": "markdown",
      "source": "## Root mean square error (RMSE)\n\nCalculate the root mean square error (RMSE) of the model. Extract the coefficient of determination (R-square) to know how close the data to the fitted regression line. "
    },
    {
      "metadata": {
        "trusted": true
      },
      "cell_type": "code",
      "source": "rmse=rmse(test$yield,estimate )\nfit=c(RMSE = rmse, R2=summary(a1)$r.squared)\nfit",
      "execution_count": null,
      "outputs": []
    }
  ],
  "metadata": {
    "kernelspec": {
      "name": "r",
      "display_name": "R",
      "language": "R"
    },
    "language_info": {
      "mimetype": "text/x-r-source",
      "name": "R",
      "pygments_lexer": "r",
      "version": "3.4.1",
      "file_extension": ".r",
      "codemirror_mode": "r"
    }
  },
  "nbformat": 4,
  "nbformat_minor": 2
}